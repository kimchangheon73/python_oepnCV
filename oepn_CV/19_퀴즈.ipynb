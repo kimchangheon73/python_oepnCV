{
 "cells": [
  {
   "cell_type": "markdown",
   "metadata": {},
   "source": [
    "# 퀴즈"
   ]
  },
  {
   "cell_type": "markdown",
   "metadata": {},
   "source": [
    "\n",
    "## openCV를 이용해서 가로로 촬영된 영상을 세로로 회전하는 프로그램을 작성하시오 \n",
    "- 회전 : 시계 반대방향으로 90도\n",
    "- 재생속도 : 원본의 4배 \n",
    "- 출력 파일명 : city_output.avi(코덱 : DIVX)\n",
    "- 원본 파일명 : city.mp4"
   ]
  },
  {
   "cell_type": "code",
   "execution_count": 1,
   "metadata": {},
   "outputs": [],
   "source": [
    "import cv2\n",
    "\n",
    "cap = cv2.VideoCapture(\"city.mp4\")                                      # 원본 비디오 데이터 호출 \n",
    "\n",
    "fourcc = cv2.VideoWriter_fourcc(*\"DIVX\")                                # 코덱 설정 \n",
    "\n",
    "width = round(cap.get(cv2.CAP_PROP_FRAME_WIDTH))                        # 가로 길이 가져오기\n",
    "height = round(cap.get(cv2.CAP_PROP_FRAME_HEIGHT))                      # 높이 길이 가져오기 \n",
    "fps = cap.get(cv2.CAP_PROP_FPS)                                         # 재생 속도 가져오기 \n",
    "\n",
    "out = cv2.VideoWriter(\"city_output.avi\",fourcc,fps*4,(height,width))    # 지정한 파일이름, 코덱, 재생속도, 사이즈로 비디오 저장 \n",
    "\n",
    "while cap.isOpened():\n",
    "    ret, frame = cap.read()\n",
    "    if not ret:\n",
    "        break\n",
    "    \n",
    "    rotate_frame = cv2.rotate(frame,cv2.ROTATE_90_COUNTERCLOCKWISE)\n",
    "    out.write(rotate_frame)\n",
    "    cv2.imshow(\"video\",frame)\n",
    "    \n",
    "    if cv2.waitKey(1)==ord('q'):\n",
    "        break\n",
    "out.release()\n",
    "cap.release()\n",
    "cv2.destroyAllWindows()"
   ]
  },
  {
   "cell_type": "code",
   "execution_count": 3,
   "metadata": {},
   "outputs": [],
   "source": [
    "import cv2\n",
    "cap = cv2.VideoCapture(\"city_output.avi\")\n",
    "while cap.isOpened():                           \n",
    "    ret, frame = cap.read()                     \n",
    "    if not ret:\n",
    "        break\n",
    "\n",
    "    cv2.imshow(\"video\",frame)\n",
    "    \n",
    "    if cv2.waitKey(1) == ord(\"q\"):              \n",
    "        break\n",
    "    \n",
    "cap.release()                                   \n",
    "cv2.destroyAllWindows()"
   ]
  },
  {
   "cell_type": "code",
   "execution_count": null,
   "metadata": {},
   "outputs": [],
   "source": []
  }
 ],
 "metadata": {
  "interpreter": {
   "hash": "cef0512ee144c52499c9fe1a46cba0fbc3451f4d893650cb600c4a7e8d506416"
  },
  "kernelspec": {
   "display_name": "Python 3.9.7 ('base')",
   "language": "python",
   "name": "python3"
  },
  "language_info": {
   "codemirror_mode": {
    "name": "ipython",
    "version": 3
   },
   "file_extension": ".py",
   "mimetype": "text/x-python",
   "name": "python",
   "nbconvert_exporter": "python",
   "pygments_lexer": "ipython3",
   "version": "3.9.7"
  },
  "orig_nbformat": 4
 },
 "nbformat": 4,
 "nbformat_minor": 2
}
