{
 "cells": [
  {
   "cell_type": "markdown",
   "metadata": {},
   "source": [
    "# 환경설정 \n",
    "- anaconda prompt에서 다음명령 수행 \n",
    "- pip install opencv-python"
   ]
  },
  {
   "cell_type": "markdown",
   "metadata": {},
   "source": [
    "# openCV(Computer Vision)\n",
    "- 다양한 영상(이미지) / 동영상 처리에 사용되는 오픈소스 라이브러리"
   ]
  },
  {
   "cell_type": "code",
   "execution_count": 6,
   "metadata": {},
   "outputs": [
    {
     "name": "stdout",
     "output_type": "stream",
     "text": [
      "56\n"
     ]
    }
   ],
   "source": [
    "import cv2\n",
    "img=cv2.imread(\"img.jpg\")            # 해당경로의 파일 읽어오기 \n",
    "cv2.imshow(\"img\",img)                #img라는 이름의 창에 img를 표시 \n",
    "key = cv2.waitKey(5000)              # 지정된 시간동안 사용자 키 입력 대기 ( 5초대기 )\n",
    "print(key)                           # 입력한 키의 아스키코드를 출력\n",
    "cv2.destroyAllWindows()              # 모든 창 닫기"
   ]
  },
  {
   "cell_type": "markdown",
   "metadata": {},
   "source": [
    "## 읽기 옵션\n",
    "- cv2.imread_color : 컬러 이미지, 투명 영역은 무시 (기본 값)\n",
    "- cv2.imread_graysale : 흑백 이미지\n",
    "- cv2. imread_unchanged : 투명 영역까지 포함"
   ]
  },
  {
   "cell_type": "code",
   "execution_count": 8,
   "metadata": {},
   "outputs": [],
   "source": [
    "import cv2\n",
    "img_color = cv2.imread(\"img.jpg\",cv2.IMREAD_COLOR)\n",
    "img_gray = cv2.imread(\"img.jpg\",cv2.IMREAD_GRAYSCALE)\n",
    "img_row = cv2.imread(\"img.jpg\",cv2.IMREAD_UNCHANGED)\n",
    "\n",
    "\n",
    "cv2.imshow(\"img_color\",img_color)\n",
    "cv2.imshow(\"img_gray\",img_gray)\n",
    "cv2.imshow(\"img_row\",img_row)\n",
    "\n",
    "cv2.waitKey(0)\n",
    "cv2.destroyAllWindows()"
   ]
  },
  {
   "cell_type": "markdown",
   "metadata": {},
   "source": [
    "# shape\n",
    "- 이미지의 높이, 너비, 채널의 정보"
   ]
  },
  {
   "cell_type": "code",
   "execution_count": 13,
   "metadata": {},
   "outputs": [
    {
     "data": {
      "text/plain": [
       "(183, 275, 3)"
      ]
     },
     "execution_count": 13,
     "metadata": {},
     "output_type": "execute_result"
    }
   ],
   "source": [
    "import cv2\n",
    "img = cv2.imread(\"img.jpg\")\n",
    "img.shape                       #세로, 가로, channel(rgb3개를 가진다)aa"
   ]
  }
 ],
 "metadata": {
  "interpreter": {
   "hash": "cef0512ee144c52499c9fe1a46cba0fbc3451f4d893650cb600c4a7e8d506416"
  },
  "kernelspec": {
   "display_name": "Python 3.9.7 ('base')",
   "language": "python",
   "name": "python3"
  },
  "language_info": {
   "codemirror_mode": {
    "name": "ipython",
    "version": 3
   },
   "file_extension": ".py",
   "mimetype": "text/x-python",
   "name": "python",
   "nbconvert_exporter": "python",
   "pygments_lexer": "ipython3",
   "version": "3.9.7"
  },
  "orig_nbformat": 4
 },
 "nbformat": 4,
 "nbformat_minor": 2
}
