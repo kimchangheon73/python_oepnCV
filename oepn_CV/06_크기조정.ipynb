{
 "cells": [
  {
   "cell_type": "markdown",
   "metadata": {},
   "source": [
    "# 6. 크기조정"
   ]
  },
  {
   "cell_type": "markdown",
   "metadata": {},
   "source": [
    "## 이미지 "
   ]
  },
  {
   "cell_type": "markdown",
   "metadata": {},
   "source": [
    "- 고정크기로 설정"
   ]
  },
  {
   "cell_type": "code",
   "execution_count": 3,
   "metadata": {},
   "outputs": [],
   "source": [
    "import cv2 \n",
    "img = cv2.imread(\"img.jpg\")\n",
    "dst = cv2.resize(img,(400,500)) # 가로, 길이의 고정 크기 \n",
    "\n",
    "cv2.imshow(\"img\",img)           # \n",
    "cv2.imshow(\"resize\",dst)         \n",
    "cv2.waitKey(0)\n",
    "cv2.destroyAllWindows()"
   ]
  },
  {
   "cell_type": "markdown",
   "metadata": {},
   "source": [
    "- 비율로 설정"
   ]
  },
  {
   "cell_type": "code",
   "execution_count": 5,
   "metadata": {},
   "outputs": [],
   "source": [
    "import cv2 \n",
    "img = cv2.imread(\"img.jpg\")\n",
    "dst = cv2.resize(img,None, fx=1.5, fy=1.5 ) # x,y 비울 정의 \n",
    "\n",
    "cv2.imshow(\"img\",img)           # \n",
    "cv2.imshow(\"resize\",dst)         \n",
    "cv2.waitKey(0)\n",
    "cv2.destroyAllWindows()"
   ]
  },
  {
   "cell_type": "markdown",
   "metadata": {},
   "source": [
    "## 보간법 : 이미지의 크기 처리를 할때 깔끔하게 하는 방법\n",
    "- cv2.inter_area : 크기 줄일때 \n",
    "- cv2.inter_cubic : 크기 늘릴 때 (속도 느림, 퀄리티 좋음)\n",
    "- cv2.inter_linear : 크기 늘릴 때 (기본 값 )"
   ]
  },
  {
   "cell_type": "markdown",
   "metadata": {},
   "source": [
    "### 보간법을 적용해서 축소"
   ]
  },
  {
   "cell_type": "code",
   "execution_count": 9,
   "metadata": {},
   "outputs": [],
   "source": [
    "import cv2 \n",
    "img = cv2.imread(\"img.jpg\")\n",
    "dst = cv2.resize(img,None, fx=0.5, fy=0.5, interpolation=cv2.INTER_AREA ) # x,y 비율로 축소\n",
    "\n",
    "cv2.imshow(\"img\",img)           # \n",
    "cv2.imshow(\"resize\",dst)         \n",
    "cv2.waitKey(0)\n",
    "cv2.destroyAllWindows()"
   ]
  },
  {
   "cell_type": "markdown",
   "metadata": {},
   "source": [
    "### 보간법 적용 확대"
   ]
  },
  {
   "cell_type": "code",
   "execution_count": 10,
   "metadata": {},
   "outputs": [],
   "source": [
    "import cv2 \n",
    "img = cv2.imread(\"img.jpg\")\n",
    "dst = cv2.resize(img,None, fx=1.5, fy=1.5, interpolation=cv2.INTER_CUBIC ) # x,y 비율 정의(0.5배로 축소)\n",
    "\n",
    "cv2.imshow(\"img\",img)           # \n",
    "cv2.imshow(\"resize\",dst)         \n",
    "cv2.waitKey(0)\n",
    "cv2.destroyAllWindows()"
   ]
  },
  {
   "cell_type": "markdown",
   "metadata": {},
   "source": [
    "## 동영상"
   ]
  },
  {
   "cell_type": "markdown",
   "metadata": {},
   "source": [
    "### 고정크기로 설정"
   ]
  },
  {
   "cell_type": "code",
   "execution_count": 11,
   "metadata": {},
   "outputs": [],
   "source": [
    "import cv2\n",
    "cap = cv2.VideoCapture(\"video.mp4\")\n",
    "\n",
    "while cap.isOpened():\n",
    "    ret, frame = cap.read()\n",
    "    if not ret:\n",
    "        break\n",
    "    \n",
    "    frame_resize = cv2.resize(frame,(400,500))\n",
    "    \n",
    "    cv2.imshow(\"video\",frame_resize)\n",
    "    if cv2.waitKey(1) ==ord(\"q\"):\n",
    "        break\n",
    "cap.release()\n",
    "cv2.destroyAllWindows()"
   ]
  },
  {
   "cell_type": "markdown",
   "metadata": {},
   "source": [
    "### 비율로 설정"
   ]
  },
  {
   "cell_type": "code",
   "execution_count": 13,
   "metadata": {},
   "outputs": [],
   "source": [
    "import cv2\n",
    "cap = cv2.VideoCapture(\"video.mp4\")\n",
    "\n",
    "while cap.isOpened():\n",
    "    ret, frame = cap.read()\n",
    "    if not ret:\n",
    "        break\n",
    "    \n",
    "    frame_resize = cv2.resize(frame,None,fx=1.5, fy=1.5, interpolation=cv2.INTER_CUBIC)\n",
    "    \n",
    "    cv2.imshow(\"video\",frame_resize)\n",
    "    if cv2.waitKey(1) ==ord(\"q\"):\n",
    "        break\n",
    "cap.release()\n",
    "cv2.destroyAllWindows()"
   ]
  },
  {
   "cell_type": "code",
   "execution_count": null,
   "metadata": {},
   "outputs": [],
   "source": []
  }
 ],
 "metadata": {
  "interpreter": {
   "hash": "cef0512ee144c52499c9fe1a46cba0fbc3451f4d893650cb600c4a7e8d506416"
  },
  "kernelspec": {
   "display_name": "Python 3.9.7 ('base')",
   "language": "python",
   "name": "python3"
  },
  "language_info": {
   "codemirror_mode": {
    "name": "ipython",
    "version": 3
   },
   "file_extension": ".py",
   "mimetype": "text/x-python",
   "name": "python",
   "nbconvert_exporter": "python",
   "pygments_lexer": "ipython3",
   "version": "3.9.7"
  },
  "orig_nbformat": 4
 },
 "nbformat": 4,
 "nbformat_minor": 2
}
