{
 "cells": [
  {
   "cell_type": "markdown",
   "metadata": {},
   "source": [
    "# 12. 이미지 변형(원근) \n",
    "- getPerspectiveTransform( src, dst ) : 변환 행렬 얻어오기 \n",
    "- warpPerspective( img , matrix , (widht, height) ) : 변환한 행렬로 결과를 가져오기"
   ]
  },
  {
   "cell_type": "markdown",
   "metadata": {},
   "source": [
    "### 사다리꼴 이미지 펼치기"
   ]
  },
  {
   "cell_type": "code",
   "execution_count": 2,
   "metadata": {},
   "outputs": [],
   "source": [
    "import cv2 \n",
    "import numpy as np\n",
    "img =cv2.imread(\"newspaper.jpg\")\n",
    "\n",
    "width,height = 640,240  # 가로 세로 640,240의 결과물로 출력\n",
    "\n",
    "# 좌상, 우상, 우하, 좌하 ( 시계 방향으로 4지점 정의 )\n",
    "src = np.array([[511,352], [1008,345], [1122,584], [455,594]], dtype=np.float32) # 4개의 지점을 나타냄( input 4개 지정 ) - 그림판에서 이미지를 불러와 위치정보를 확인하면 좋음 \n",
    "dst = np.array([[0,0], [width,0], [width,height], [0,height]],dtype=np.float32)  # 4개의 지점을 나타냄( output 4개 지정 ) \n",
    "\n",
    "\n",
    "\n",
    "matrix = cv2.getPerspectiveTransform(src,dst)           # scr를 dst 형태로 바꾸기 위한 변환 행렬을 얻어오는 작업 \n",
    "result = cv2.warpPerspective(img,matrix,(width,height)) # img를 앞에 정의한 matrix형태로 지정한 크기(가로,세로)의 결과로 얻어오는 작업 \n",
    "\n",
    "cv2.imshow(\"news\",img)\n",
    "cv2.imshow(\"result\",result)\n",
    "cv2.waitKey(0)\n",
    "cv2.destroyAllWindows()"
   ]
  },
  {
   "cell_type": "markdown",
   "metadata": {},
   "source": [
    "### 회전된 이미지 올바로 세우기"
   ]
  },
  {
   "cell_type": "code",
   "execution_count": 1,
   "metadata": {},
   "outputs": [],
   "source": [
    "import cv2 \n",
    "import numpy as np\n",
    "img =cv2.imread(\"poker.jpg\")\n",
    "\n",
    "width,height = 530,710  \n",
    "\n",
    "src = np.array([[702,143], [1126,418], [722,997], [287,699]], dtype=np.float32) \n",
    "dst = np.array([[0,0], [width,0], [width,height], [0,height]],dtype=np.float32)  \n",
    "\n",
    "\n",
    "\n",
    "matrix = cv2.getPerspectiveTransform(src,dst)           \n",
    "result = cv2.warpPerspective(img,matrix,(width,height)) \n",
    "\n",
    "cv2.imshow(\"news\",img)\n",
    "cv2.imshow(\"result\",result)\n",
    "cv2.waitKey(0)\n",
    "cv2.destroyAllWindows()"
   ]
  },
  {
   "cell_type": "markdown",
   "metadata": {},
   "source": []
  }
 ],
 "metadata": {
  "interpreter": {
   "hash": "cef0512ee144c52499c9fe1a46cba0fbc3451f4d893650cb600c4a7e8d506416"
  },
  "kernelspec": {
   "display_name": "Python 3.9.7 ('base')",
   "language": "python",
   "name": "python3"
  },
  "language_info": {
   "codemirror_mode": {
    "name": "ipython",
    "version": 3
   },
   "file_extension": ".py",
   "mimetype": "text/x-python",
   "name": "python",
   "nbconvert_exporter": "python",
   "pygments_lexer": "ipython3",
   "version": "3.9.7"
  },
  "orig_nbformat": 4
 },
 "nbformat": 4,
 "nbformat_minor": 2
}
