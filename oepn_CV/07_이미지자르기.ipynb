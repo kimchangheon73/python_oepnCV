{
 "cells": [
  {
   "cell_type": "markdown",
   "metadata": {},
   "source": [
    "# 7.이미지 자르기 - [:]\n",
    "- 원본 이미지 중에서 원하는 영역만을 선택하는 작업"
   ]
  },
  {
   "cell_type": "code",
   "execution_count": 6,
   "metadata": {},
   "outputs": [],
   "source": [
    "import cv2\n",
    "\n",
    "img = cv2.imread(\"img.jpg\")\n",
    "# img_shape : (183, 275, 3)\n",
    "\n",
    "crop =img[:150, :220]  # 세로 50~150, 가로 150~220까지 자름\n",
    "\n",
    "cv2.imshow(\"img\",img)\n",
    "cv2.imshow(\"crop\",crop)\n",
    "cv2.waitKey(0)\n",
    "cv2.destroyAllWindows()"
   ]
  },
  {
   "cell_type": "markdown",
   "metadata": {},
   "source": [
    "### 영역을 잘라서 기존 윈도우에 표시"
   ]
  },
  {
   "cell_type": "code",
   "execution_count": 13,
   "metadata": {},
   "outputs": [],
   "source": [
    "import cv2\n",
    "\n",
    "img = cv2.imread(\"img.jpg\")\n",
    "# img_shape : (183, 275, 3)\n",
    "\n",
    "crop =img[:150, :220]   # 세로 50~150, 가로 150~220까지 자름\n",
    "img[:150,55:] = crop    # img의 가로 0~150, 세로 55~275를 crop 이미지로 대체\n",
    "                        # 지정한 영역과 대체할 이미지의 영역의 크기가 맞아야함 ( 매우 당연한 ;;; )\n",
    "\n",
    "\n",
    "cv2.imshow(\"img\",img)\n",
    "cv2.waitKey(0)\n",
    "cv2.destroyAllWindows()"
   ]
  },
  {
   "cell_type": "code",
   "execution_count": null,
   "metadata": {},
   "outputs": [],
   "source": []
  }
 ],
 "metadata": {
  "interpreter": {
   "hash": "cef0512ee144c52499c9fe1a46cba0fbc3451f4d893650cb600c4a7e8d506416"
  },
  "kernelspec": {
   "display_name": "Python 3.9.7 ('base')",
   "language": "python",
   "name": "python3"
  },
  "language_info": {
   "codemirror_mode": {
    "name": "ipython",
    "version": 3
   },
   "file_extension": ".py",
   "mimetype": "text/x-python",
   "name": "python",
   "nbconvert_exporter": "python",
   "pygments_lexer": "ipython3",
   "version": "3.9.7"
  },
  "orig_nbformat": 4
 },
 "nbformat": 4,
 "nbformat_minor": 2
}
