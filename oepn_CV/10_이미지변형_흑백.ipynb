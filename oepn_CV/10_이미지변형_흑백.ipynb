{
 "cells": [
  {
   "cell_type": "markdown",
   "metadata": {},
   "source": [
    "# 10. 이미지 변형(흑백) - cvtColor( color )\n",
    "- 이미지의 불명확하거나 필요없는 부분을 없애는 작업 "
   ]
  },
  {
   "cell_type": "markdown",
   "metadata": {},
   "source": [
    "### 불러온 이미지를 흑백으로 벼경 "
   ]
  },
  {
   "cell_type": "code",
   "execution_count": 1,
   "metadata": {},
   "outputs": [],
   "source": [
    "import cv2\n",
    "img_gray = cv2.imread(\"img.jpg\",cv2.IMREAD_GRAYSCALE)   # 흑백으로 이미지를 처음부터 불러오는 방법 ( 01에서 해봄 )\n",
    "\n",
    "\n",
    "cv2.imshow(\"gray\",img_gray)\n",
    "cv2.waitKey(0)\n",
    "cv2.destroyAllWindows()"
   ]
  },
  {
   "cell_type": "code",
   "execution_count": 2,
   "metadata": {},
   "outputs": [],
   "source": [
    "import cv2\n",
    "img = cv2.imread(\"img.jpg\")  \n",
    "\n",
    "dst = cv2.cvtColor(img,cv2.COLOR_BGR2GRAY)              # cvtColor : 이미지 색상 전환 매서드 \n",
    "                                                       \n",
    "cv2.imshow(\"dst\",dst)                                   # 불러온 이미지를 흑백으로 변경하는 방법\n",
    "cv2.imshow(\"img\",img)                       \n",
    "\n",
    "cv2.waitKey(0)\n",
    "cv2.destroyAllWindows()"
   ]
  },
  {
   "cell_type": "code",
   "execution_count": null,
   "metadata": {},
   "outputs": [],
   "source": []
  }
 ],
 "metadata": {
  "interpreter": {
   "hash": "cef0512ee144c52499c9fe1a46cba0fbc3451f4d893650cb600c4a7e8d506416"
  },
  "kernelspec": {
   "display_name": "Python 3.9.7 ('base')",
   "language": "python",
   "name": "python3"
  },
  "language_info": {
   "codemirror_mode": {
    "name": "ipython",
    "version": 3
   },
   "file_extension": ".py",
   "mimetype": "text/x-python",
   "name": "python",
   "nbconvert_exporter": "python",
   "pygments_lexer": "ipython3",
   "version": "3.9.7"
  },
  "orig_nbformat": 4
 },
 "nbformat": 4,
 "nbformat_minor": 2
}
