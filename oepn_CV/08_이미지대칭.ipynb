{
 "cells": [
  {
   "cell_type": "markdown",
   "metadata": {},
   "source": [
    "# 8. 이미지 대칭"
   ]
  },
  {
   "cell_type": "markdown",
   "metadata": {},
   "source": [
    "### 좌우대칭 - flip(1)"
   ]
  },
  {
   "cell_type": "code",
   "execution_count": 2,
   "metadata": {},
   "outputs": [],
   "source": [
    "import cv2\n",
    "img = cv2.imread(\"img.jpg\")\n",
    "flip_horizontal = cv2.flip(img,1)     # filpcoe >  0 : 좌우대칭 \n",
    "\n",
    "cv2.imshow(\"img\",img)\n",
    "cv2.imshow(\"horizon\",flip_horizontal)\n",
    "cv2.waitKey(0)\n",
    "cv2.destroyAllWindows()"
   ]
  },
  {
   "cell_type": "markdown",
   "metadata": {},
   "source": [
    "### 상하대칭 - flip(0)"
   ]
  },
  {
   "cell_type": "code",
   "execution_count": 4,
   "metadata": {},
   "outputs": [],
   "source": [
    "import cv2\n",
    "img = cv2.imread(\"img.jpg\")\n",
    "flip_vertical = cv2.flip(img,0)     # filpcoe ==  0 : 상하대칭 \n",
    "\n",
    "cv2.imshow(\"img\",img)\n",
    "cv2.imshow(\"vertical\",flip_vertical)\n",
    "cv2.waitKey(0)\n",
    "cv2.destroyAllWindows()"
   ]
  },
  {
   "cell_type": "markdown",
   "metadata": {},
   "source": [
    "### 상하좌우 대칭 - flip(-1)"
   ]
  },
  {
   "cell_type": "code",
   "execution_count": 5,
   "metadata": {},
   "outputs": [],
   "source": [
    "import cv2\n",
    "img = cv2.imread(\"img.jpg\")\n",
    "flip_both = cv2.flip(img,-1)     # filpcoe <  0 : 상하좌우대칭 \n",
    "\n",
    "cv2.imshow(\"img\",img)\n",
    "cv2.imshow(\"flip_both\",flip_both)\n",
    "cv2.waitKey(0)\n",
    "cv2.destroyAllWindows()"
   ]
  },
  {
   "cell_type": "markdown",
   "metadata": {},
   "source": [
    "### 네 방향 다 드루와~~~"
   ]
  },
  {
   "cell_type": "code",
   "execution_count": 6,
   "metadata": {},
   "outputs": [],
   "source": [
    "import cv2\n",
    "img = cv2.imread(\"img.jpg\")\n",
    "flip_both = cv2.flip(img,-1)     # filpcoe <  0 : 상하좌우대칭 \n",
    "\n",
    "cv2.imshow(\"img\",img)\n",
    "cv2.imshow(\"flip_horizon\",flip_horizontal)\n",
    "cv2.imshow(\"flip_vertical\",flip_vertical)\n",
    "cv2.imshow(\"flip_both\",flip_both)\n",
    "cv2.waitKey(0)\n",
    "cv2.destroyAllWindows()"
   ]
  },
  {
   "cell_type": "code",
   "execution_count": null,
   "metadata": {},
   "outputs": [],
   "source": []
  }
 ],
 "metadata": {
  "interpreter": {
   "hash": "cef0512ee144c52499c9fe1a46cba0fbc3451f4d893650cb600c4a7e8d506416"
  },
  "kernelspec": {
   "display_name": "Python 3.9.7 ('base')",
   "language": "python",
   "name": "python3"
  },
  "language_info": {
   "codemirror_mode": {
    "name": "ipython",
    "version": 3
   },
   "file_extension": ".py",
   "mimetype": "text/x-python",
   "name": "python",
   "nbconvert_exporter": "python",
   "pygments_lexer": "ipython3",
   "version": "3.9.7"
  },
  "orig_nbformat": 4
 },
 "nbformat": 4,
 "nbformat_minor": 2
}
