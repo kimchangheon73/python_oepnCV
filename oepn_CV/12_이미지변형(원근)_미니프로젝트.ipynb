{
 "cells": [
  {
   "cell_type": "markdown",
   "metadata": {},
   "source": [
    "# 미니 프로젝트 : 반자동 문서 스캐너 \n",
    "-> 4개의 지점을 마우스로 클릭하여 실시간으로 영역을 직사각형으로 펼치는 프로젝트 "
   ]
  },
  {
   "cell_type": "markdown",
   "metadata": {},
   "source": [
    "### 마우스 이벤트 드록 "
   ]
  },
  {
   "cell_type": "code",
   "execution_count": 6,
   "metadata": {},
   "outputs": [
    {
     "name": "stdout",
     "output_type": "stream",
     "text": [
      "왼쪽 버튼 누름\n",
      "614 410\n",
      "왼쪽 버튼 뗌\n",
      "614 410\n",
      "마우스 오른쪽 버튼 누름\n",
      "왼쪽 버튼 누름\n",
      "974 345\n",
      "왼쪽 버튼 뗌\n",
      "974 345\n",
      "마우스 오른쪽 버튼 누름\n",
      "마우스 오른쪽 버튼 누름\n",
      "마우스 오른쪽 버튼 누름\n",
      "왼쪽 버튼 누름\n",
      "470 426\n",
      "왼쪽 버튼 뗌\n",
      "470 426\n"
     ]
    }
   ],
   "source": [
    "import cv2\n",
    "\n",
    "def mouse_handler(event, x,y, flags, param):\n",
    "    if event == cv2.EVENT_LBUTTONDOWN:      # 마우스 왼쪽 버튼 누름\n",
    "        print(\"왼쪽 버튼 누름\")\n",
    "        print(x,y)\n",
    "    elif event == cv2.EVENT_LBUTTONUP:      # 마우스 왼쪽 버튼 뗌\n",
    "        print(\"왼쪽 버튼 뗌\")\n",
    "        print(x,y)\n",
    "    elif event == cv2.EVENT_LBUTTONDBLCLK:  # 왼쪽 버튼 더블 클릭 \n",
    "         print(\"왼쪽 버튼 떠블 클릭\")\n",
    "    #elif event == cv2.EVENT_MOUSEMOVE:      # 마우스 이동 \n",
    "    #    print(\"마우스이동\")\n",
    "    #    print(x,y)\n",
    "    elif event == cv2.EVENT_RBUTTONDOWN:    # 마우스 오른쪽 버튼 누름 \n",
    "        print(\"마우스 오른쪽 버튼 누름\")\n",
    "    \n",
    "\n",
    "img =cv2.imread(\"poker.jpg\")\n",
    "\n",
    "cv2.namedWindow(\"img\") # img란 이름의 윈도우를 먼저 만들어 두는것, 여기에 마우스 이벤트를 처리하기 위한 핸들러 적용 \n",
    "cv2.setMouseCallback(\"img\",mouse_handler) # img란 이름의 윈도우에게 적용할 이벤트를 지정함\n",
    "cv2.imshow(\"img\",img)\n",
    "cv2.waitKey(0)\n",
    "cv2.destroyAllWindows()"
   ]
  },
  {
   "cell_type": "markdown",
   "metadata": {},
   "source": [
    "# 프로젝트"
   ]
  },
  {
   "cell_type": "code",
   "execution_count": 9,
   "metadata": {},
   "outputs": [],
   "source": [
    "import cv2\n",
    "import numpy as np\n",
    "\n",
    "point_list = []\n",
    "src_img = cv2.imread(\"poker.jpg\")\n",
    "\n",
    "def mouse_handler(event, x,y, flags, param):\n",
    "    if event == cv2.EVENT_LBUTTONDOWN:      \n",
    "        point_list.append((x,y))\n",
    "        \n",
    "        \n",
    "    for point in point_list:\n",
    "        cv2.circle(src_img,point,radius=15,color=(255,255,0) , thickness=cv2.FILLED, lineType=cv2.LINE_AA) \n",
    "    \n",
    "    if len(point_list)==4:\n",
    "        show_result()\n",
    "\n",
    "    cv2.imshow(\"img\",src_img)\n",
    "    \n",
    "    \n",
    "def show_result():\n",
    "    width,height = 530,710  \n",
    "    src = np.float32(point_list)\n",
    "    dst = np.array([[0,0], [width,0], [width,height], [0,height]],dtype=np.float32) \n",
    "     \n",
    "    matrix = cv2.getPerspectiveTransform(src,dst)           \n",
    "    result = cv2.warpPerspective(src_img,matrix,(width,height)) \n",
    "\n",
    "    cv2.imshow(\"result\",result)\n",
    "\n",
    "cv2.namedWindow(\"img\") \n",
    "cv2.setMouseCallback(\"img\",mouse_handler) \n",
    "cv2.imshow(\"img\",src_img)\n",
    "cv2.waitKey(0)\n",
    "cv2.destroyAllWindows()"
   ]
  },
  {
   "cell_type": "markdown",
   "metadata": {},
   "source": [
    "### 동그라미 뿐만 아니라 두 점을 잇는 선을 그리자"
   ]
  },
  {
   "cell_type": "code",
   "execution_count": 2,
   "metadata": {},
   "outputs": [],
   "source": [
    "import cv2\n",
    "import numpy as np\n",
    "\n",
    "point_list = []\n",
    "src_img = cv2.imread(\"poker.jpg\")\n",
    "\n",
    "thickness=3\n",
    "drawing=False # 선을 그릴지 여부 \n",
    "\n",
    "def mouse_handler(event, x,y, flags, param):\n",
    "    global drawing\n",
    "    \n",
    "    if event == cv2.EVENT_LBUTTONDOWN:      \n",
    "        drawing = True          # 선을 그리기 시작\n",
    "        point_list.append((x,y))\n",
    "\n",
    "    if drawing:\n",
    "        prev_point =None\n",
    "        for point in point_list:\n",
    "            cv2.circle(src_img,point,radius=15,color=(255,255,0) , thickness=cv2.FILLED, lineType=cv2.LINE_AA) \n",
    "            if prev_point:\n",
    "                cv2.line(src_img,prev_point,point,color=(255,255,0),thickness=thickness,lineType=cv2.LINE_AA)\n",
    "            prev_point=point\n",
    "            \n",
    "    if len(point_list)==4:\n",
    "        show_result()\n",
    "\n",
    "    cv2.imshow(\"img\",src_img)\n",
    "    \n",
    "    \n",
    "def show_result():\n",
    "    width,height = 530,710  \n",
    "    src = np.float32(point_list)\n",
    "    dst = np.array([[0,0], [width,0], [width,height], [0,height]],dtype=np.float32) \n",
    "     \n",
    "    matrix = cv2.getPerspectiveTransform(src,dst)           \n",
    "    result = cv2.warpPerspective(src_img,matrix,(width,height)) \n",
    "\n",
    "    cv2.imshow(\"result\",result)\n",
    "\n",
    "cv2.namedWindow(\"img\") \n",
    "cv2.setMouseCallback(\"img\",mouse_handler) \n",
    "cv2.imshow(\"img\",src_img)\n",
    "cv2.waitKey(0)\n",
    "cv2.destroyAllWindows()"
   ]
  },
  {
   "cell_type": "markdown",
   "metadata": {},
   "source": [
    "### 실시간 선긋기"
   ]
  },
  {
   "cell_type": "code",
   "execution_count": 7,
   "metadata": {},
   "outputs": [],
   "source": [
    "import cv2\n",
    "import numpy as np\n",
    "\n",
    "point_list = []\n",
    "src_img = cv2.imread(\"poker.jpg\")\n",
    "\n",
    "thickness=3\n",
    "drawing=False # 선을 그릴지 여부 \n",
    "\n",
    "def mouse_handler(event, x,y, flags, param):\n",
    "    global drawing\n",
    "    dst_img = src_img.copy()\n",
    "    \n",
    "    if event == cv2.EVENT_LBUTTONDOWN:      \n",
    "        drawing = True          # 선을 그리기 시작\n",
    "        point_list.append((x,y))\n",
    "\n",
    "    if drawing:\n",
    "        prev_point =None\n",
    "        for point in point_list:\n",
    "            cv2.circle(dst_img,point,radius=15,color=(255,255,0) , thickness=cv2.FILLED, lineType=cv2.LINE_AA) \n",
    "            if prev_point:\n",
    "                cv2.line(dst_img,prev_point,point,color=(255,255,0),thickness=thickness,lineType=cv2.LINE_AA)\n",
    "            prev_point=point\n",
    "          \n",
    "        next_point =(x,y)\n",
    "        if len(point_list)==4:\n",
    "            show_result()\n",
    "            next_point=point_list[0] # 첫 번째 클릭한 지점\n",
    "            \n",
    "        cv2.line(dst_img,prev_point,next_point,color=(255,255,0),thickness=thickness,lineType=cv2.LINE_AA)\n",
    "        \n",
    "\n",
    "    cv2.imshow(\"img\",dst_img)\n",
    "    \n",
    "    \n",
    "def show_result():\n",
    "    width,height = 530,710  \n",
    "    src = np.float32(point_list)\n",
    "    dst = np.array([[0,0], [width,0], [width,height], [0,height]],dtype=np.float32) \n",
    "     \n",
    "    matrix = cv2.getPerspectiveTransform(src,dst)           \n",
    "    result = cv2.warpPerspective(src_img,matrix,(width,height)) \n",
    "\n",
    "    cv2.imshow(\"result\",result)\n",
    "\n",
    "cv2.namedWindow(\"img\") \n",
    "cv2.setMouseCallback(\"img\",mouse_handler) \n",
    "cv2.imshow(\"img\",src_img)\n",
    "cv2.waitKey(0)\n",
    "cv2.destroyAllWindows()"
   ]
  },
  {
   "cell_type": "code",
   "execution_count": null,
   "metadata": {},
   "outputs": [],
   "source": []
  }
 ],
 "metadata": {
  "interpreter": {
   "hash": "cef0512ee144c52499c9fe1a46cba0fbc3451f4d893650cb600c4a7e8d506416"
  },
  "kernelspec": {
   "display_name": "Python 3.9.7 ('base')",
   "language": "python",
   "name": "python3"
  },
  "language_info": {
   "codemirror_mode": {
    "name": "ipython",
    "version": 3
   },
   "file_extension": ".py",
   "mimetype": "text/x-python",
   "name": "python",
   "nbconvert_exporter": "python",
   "pygments_lexer": "ipython3",
   "version": "3.9.7"
  },
  "orig_nbformat": 4
 },
 "nbformat": 4,
 "nbformat_minor": 2
}
