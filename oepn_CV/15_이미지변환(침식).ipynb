{
 "cells": [
  {
   "cell_type": "markdown",
   "metadata": {},
   "source": [
    "# 15. 이미지 변환 (침식)\n",
    "- 이미지를 깍아서 노이즈 제거 \n",
    "- 흰 색 영역의 외곽 픽셀을 검은색으로 변경 "
   ]
  },
  {
   "cell_type": "code",
   "execution_count": 4,
   "metadata": {},
   "outputs": [],
   "source": [
    "import cv2\n",
    "import numpy as np\n",
    "\n",
    "kernel = np.ones((3,3),dtype=np.uint8)\n",
    "\n",
    "img =cv2.imread(\"erode.png\", cv2.IMREAD_GRAYSCALE)\n",
    "erode1 = cv2.erode(img,kernel=kernel,iterations=1)\n",
    "erode2 = cv2.erode(img,kernel=kernel,iterations=2)\n",
    "erode3 = cv2.erode(img,kernel=kernel,iterations=3) \n",
    "\n",
    "cv2.imshow(\"img\",img)\n",
    "cv2.imshow(\"erode1\",erode1)\n",
    "cv2.imshow(\"erode2\",erode2)\n",
    "cv2.imshow(\"erode3\",erode3)\n",
    "\n",
    "cv2.waitKey(0)\n",
    "cv2.destroyAllWindows()"
   ]
  }
 ],
 "metadata": {
  "interpreter": {
   "hash": "cef0512ee144c52499c9fe1a46cba0fbc3451f4d893650cb600c4a7e8d506416"
  },
  "kernelspec": {
   "display_name": "Python 3.9.7 ('base')",
   "language": "python",
   "name": "python3"
  },
  "language_info": {
   "codemirror_mode": {
    "name": "ipython",
    "version": 3
   },
   "file_extension": ".py",
   "mimetype": "text/x-python",
   "name": "python",
   "nbconvert_exporter": "python",
   "pygments_lexer": "ipython3",
   "version": "3.9.7"
  },
  "orig_nbformat": 4
 },
 "nbformat": 4,
 "nbformat_minor": 2
}
