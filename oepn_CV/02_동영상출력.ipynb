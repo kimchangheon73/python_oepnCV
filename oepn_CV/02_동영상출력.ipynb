{
 "cells": [
  {
   "cell_type": "markdown",
   "metadata": {},
   "source": [
    "# 2. 동영상 출력\n",
    "- 여러 픽셀의 연속 출력의 결과물"
   ]
  },
  {
   "cell_type": "markdown",
   "metadata": {},
   "source": [
    "# 동영상 파일 출력"
   ]
  },
  {
   "cell_type": "code",
   "execution_count": 2,
   "metadata": {},
   "outputs": [
    {
     "name": "stdout",
     "output_type": "stream",
     "text": [
      "사용자 입력에 의해 종료합니다\n"
     ]
    }
   ],
   "source": [
    "import cv2\n",
    "cap = cv2.VideoCapture(\"video.mp4\")\n",
    "while cap.isOpened():                           # 동영상 파일이 올바로 열렸는가 ?\n",
    "    ret, frame = cap.read()                     # ret : 성공여부 , frame : 받아온 이미지(프레임)\n",
    "    if not ret:\n",
    "        print(\"더이상 가져올 프레임이 없음\")\n",
    "        break\n",
    "\n",
    "    cv2.imshow(\"video\",frame)\n",
    "    \n",
    "    if cv2.waitKey(25) == ord(\"q\"):              # 각 프레임당 1ms만큼 기다려준다 ( 여기를 조정해서 영상재생 속도 조절 가능 ), ord = \"문자의 아스키코드변환\"\n",
    "        print(\"사용자 입력에 의해 종료합니다\")\n",
    "        break\n",
    "    \n",
    "cap.release()                                   #자원반환\n",
    "cv2.destroyAllWindows()"
   ]
  },
  {
   "cell_type": "markdown",
   "metadata": {},
   "source": [
    "## 카메라 출력\n",
    "- pc는 코드만 보도록"
   ]
  },
  {
   "cell_type": "code",
   "execution_count": 3,
   "metadata": {},
   "outputs": [],
   "source": [
    "import cv2\n",
    "cap = cv2.VideoCapture(0)               # 0번째 카메라 장치 (device id)\n",
    "\n",
    "\n",
    "if not cap.isOpened():                  # 카메라가 열리지 않은 경우 \n",
    "    exit();                             # 프로그램 종료\n",
    "\n",
    "while True:\n",
    "    ret , frame = cap.read()\n",
    "    if not ret:\n",
    "        break\n",
    "\n",
    "    cv2.imshow(\"camera\", frame)\n",
    "    if cv2.waitKey(1) == ord(\"q\"):      # 사용자가 q를 입력하면 종료 \n",
    "        break\n",
    "\n",
    "cap.release()\n",
    "cv2.destroyAllWindows()"
   ]
  },
  {
   "cell_type": "code",
   "execution_count": null,
   "metadata": {},
   "outputs": [],
   "source": []
  }
 ],
 "metadata": {
  "interpreter": {
   "hash": "cef0512ee144c52499c9fe1a46cba0fbc3451f4d893650cb600c4a7e8d506416"
  },
  "kernelspec": {
   "display_name": "Python 3.9.7 ('base')",
   "language": "python",
   "name": "python3"
  },
  "language_info": {
   "codemirror_mode": {
    "name": "ipython",
    "version": 3
   },
   "file_extension": ".py",
   "mimetype": "text/x-python",
   "name": "python",
   "nbconvert_exporter": "python",
   "pygments_lexer": "ipython3",
   "version": "3.9.7"
  },
  "orig_nbformat": 4
 },
 "nbformat": 4,
 "nbformat_minor": 2
}
