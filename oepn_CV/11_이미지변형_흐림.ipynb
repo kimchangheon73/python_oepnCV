{
 "cells": [
  {
   "cell_type": "markdown",
   "metadata": {},
   "source": [
    "# 11. 이미지 변형( 흐림 )\n",
    "- 가우시안 블러 : 이미지를 흐리게 , 노이즈도 없앨 수 있음 "
   ]
  },
  {
   "cell_type": "markdown",
   "metadata": {},
   "source": [
    "-> 커널 사이즈 변화에 따른 흐림 \n"
   ]
  },
  {
   "cell_type": "code",
   "execution_count": 2,
   "metadata": {},
   "outputs": [],
   "source": [
    "import cv2\n",
    "img= cv2.imread(\"img.jpg\")   \n",
    "\n",
    "# (3,3),(5,5),(7,7) 커널 사이즈는 양수의 홀수로 지정해야 효율이 좋음 ( 저 3개 중에서 사용함 )\n",
    "\n",
    "s_1= cv2.GaussianBlur(img,(0,0),1)    # 1 : sigmaX 가우시안 커널의 x방향 표준편차를 의미 커널사이즈 (0,0)으로 두면 sigmaX로 인해 자동으로 결정 됨  \n",
    "s_2 = cv2.GaussianBlur(img,(0,0),2)\n",
    "s_3 = cv2.GaussianBlur(img,(0,0),3)\n",
    "cv2.imshow(\"img\",img)\n",
    "cv2.imshow(\"s_1\",s_1)\n",
    "cv2.imshow(\"s_2\",s_2)\n",
    "cv2.imshow(\"s_3\",s_3)                 # 흐림이 더 커짐 \n",
    "\n",
    "cv2.waitKey(0)\n",
    "cv2.destroyAllWindows()"
   ]
  },
  {
   "cell_type": "markdown",
   "metadata": {},
   "source": [
    "-> 표준 편차 변화에 따른 흐림 "
   ]
  },
  {
   "cell_type": "code",
   "execution_count": null,
   "metadata": {},
   "outputs": [],
   "source": [
    "import cv2\n",
    "img= cv2.imread(\"img.jpg\")   \n",
    "\n",
    "# (3,3),(5,5),(7,7) 커널 사이즈는 양수의 홀수로 지정해야 효율이 좋음 ( 저 3개 중에서 사용함 )\n",
    "\n",
    "kernel_3 = cv2.GaussianBlur(img,(3,3),0)    # 0 : sigmaX 표준편차를 의미 \n",
    "kernel_5 = cv2.GaussianBlur(img,(5,5),0)\n",
    "kernel_7 = cv2.GaussianBlur(img,(7,7),0)\n",
    "cv2.imshow(\"img\",img)\n",
    "cv2.imshow(\"kernel_3\",kernel_3)\n",
    "cv2.imshow(\"kernel_5\",kernel_5)\n",
    "cv2.imshow(\"kernel_7\",kernel_7)             # 커널 사이즈가 커질 수록 흐림의 정도가 커짐 \n",
    "\n",
    "cv2.waitKey(0)\n",
    "cv2.destroyAllWindows()"
   ]
  },
  {
   "cell_type": "markdown",
   "metadata": {},
   "source": []
  }
 ],
 "metadata": {
  "interpreter": {
   "hash": "cef0512ee144c52499c9fe1a46cba0fbc3451f4d893650cb600c4a7e8d506416"
  },
  "kernelspec": {
   "display_name": "Python 3.9.7 ('base')",
   "language": "python",
   "name": "python3"
  },
  "language_info": {
   "codemirror_mode": {
    "name": "ipython",
    "version": 3
   },
   "file_extension": ".py",
   "mimetype": "text/x-python",
   "name": "python",
   "nbconvert_exporter": "python",
   "pygments_lexer": "ipython3",
   "version": "3.9.7"
  },
  "orig_nbformat": 4
 },
 "nbformat": 4,
 "nbformat_minor": 2
}
