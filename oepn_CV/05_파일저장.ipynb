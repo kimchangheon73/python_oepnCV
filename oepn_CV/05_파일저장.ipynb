{
 "cells": [
  {
   "cell_type": "markdown",
   "metadata": {},
   "source": [
    "# 5. 파일 저장\n",
    "## 이미지 저장 "
   ]
  },
  {
   "cell_type": "code",
   "execution_count": 2,
   "metadata": {},
   "outputs": [
    {
     "data": {
      "text/plain": [
       "True"
      ]
     },
     "execution_count": 2,
     "metadata": {},
     "output_type": "execute_result"
    }
   ],
   "source": [
    "import cv2 \n",
    "img = cv2.imread(\"img.jpg\",cv2.IMREAD_GRAYSCALE)    #흑백으로 이미지 불러오기 \n",
    "cv2.imshow(\"img\",img)\n",
    "cv2.waitKey(0)\n",
    "cv2.destroyAllWindows()\n",
    "\n",
    "result = cv2.imwrite(\"img_save.jpg\",img)            #저장 결과를 불리언으로 반환 (jpg형태로)\n",
    "result"
   ]
  },
  {
   "cell_type": "code",
   "execution_count": 4,
   "metadata": {},
   "outputs": [
    {
     "data": {
      "text/plain": [
       "True"
      ]
     },
     "execution_count": 4,
     "metadata": {},
     "output_type": "execute_result"
    }
   ],
   "source": [
    "import cv2 \n",
    "img = cv2.imread(\"img.jpg\",cv2.IMREAD_GRAYSCALE)    #흑백으로 이미지 불러오기 \n",
    "cv2.imshow(\"img\",img)\n",
    "cv2.waitKey(0)\n",
    "cv2.destroyAllWindows()\n",
    "\n",
    "result = cv2.imwrite(\"img_save.png\",img)            #저장 결과를 불리언으로 반환 (png형태로)\n",
    "result"
   ]
  },
  {
   "cell_type": "markdown",
   "metadata": {},
   "source": [
    "## 동영상 저장"
   ]
  },
  {
   "cell_type": "code",
   "execution_count": 10,
   "metadata": {},
   "outputs": [],
   "source": [
    "import cv2 \n",
    "cap  = cv2.VideoCapture(\"video.mp4\")\n",
    "\n",
    "# 코덱 정의 ( 어떤 형태로 저장을 할건지 정의 )\n",
    "fourcc = cv2.VideoWriter_fourcc(*'DIVX')    # DIVX를 한글자씩 떨어뜨려줌 \n",
    "\n",
    "# 프레임의 크기, fps를 정의 \n",
    "width = round(cap.get(cv2.CAP_PROP_FRAME_WIDTH))        # 동영상의 가로길이\n",
    "height = round(cap.get(cv2.CAP_PROP_FRAME_HEIGHT))      # 동영상의 세로길이\n",
    "fps = cap.get(cv2.CAP_PROP_FPS)*2                       # 동영상의 fps\n",
    "\n",
    "\n",
    "# 저장파일명, 코덱, fps, 크기(가로,세로)\n",
    "out = cv2.VideoWriter(\"fast_output.avi\",fourcc,fps,(width,height))\n",
    "\n",
    "\n",
    "while cap.isOpened():\n",
    "    ret, frame = cap.read()\n",
    "    \n",
    "    if not ret:\n",
    "        break\n",
    "    \n",
    "    out.write(frame)        # 영상데이터만 저장(소리 x)\n",
    "    cv2.imshow(\"video\",frame)\n",
    "    if cv2.waitKey(1)==ord(\"q\"):\n",
    "        break\n",
    "\n",
    "out.release()\n",
    "cap.release()\n",
    "cv2.destroyAllWindows();"
   ]
  },
  {
   "cell_type": "code",
   "execution_count": null,
   "metadata": {},
   "outputs": [],
   "source": []
  }
 ],
 "metadata": {
  "interpreter": {
   "hash": "cef0512ee144c52499c9fe1a46cba0fbc3451f4d893650cb600c4a7e8d506416"
  },
  "kernelspec": {
   "display_name": "Python 3.9.7 ('base')",
   "language": "python",
   "name": "python3"
  },
  "language_info": {
   "codemirror_mode": {
    "name": "ipython",
    "version": 3
   },
   "file_extension": ".py",
   "mimetype": "text/x-python",
   "name": "python",
   "nbconvert_exporter": "python",
   "pygments_lexer": "ipython3",
   "version": "3.9.7"
  },
  "orig_nbformat": 4
 },
 "nbformat": 4,
 "nbformat_minor": 2
}
