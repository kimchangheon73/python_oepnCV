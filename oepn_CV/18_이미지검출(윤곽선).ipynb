{
 "cells": [
  {
   "cell_type": "markdown",
   "metadata": {},
   "source": [
    "# 18. 이미지 검출( 윤곽선 )\n",
    "- Counter : 경계선을 연결한 선 "
   ]
  },
  {
   "cell_type": "code",
   "execution_count": 12,
   "metadata": {},
   "outputs": [],
   "source": [
    "import cv2\n",
    "img = cv2.imread(\"card.png\")\n",
    "target = img.copy() #사본 이미지 \n",
    "\n",
    "gray = cv2.cvtColor(img,cv2.COLOR_BGR2GRAY)\n",
    "ret, ostu = cv2.threshold(gray,-1,255,cv2.THRESH_BINARY | cv2.THRESH_OTSU)\n",
    "\n",
    "# 윤곽선 정보, 계층 구조 = findContours( 대상이미지, 윤곽선 찾는 모드, 윤곽선 찾을때 사용하는 근사치 )\n",
    "contours, hierachy = cv2.findContours(ostu, cv2.RETR_LIST, cv2.CHAIN_APPROX_NONE) # 근사치 종류 : CHAIN_APPROX_NONE( 모든 좌표 반환 ), CHAIN_APPROX_SIMPLE( 꼭지점 좌표만 중복제거 후 반환 )\n",
    "\n",
    "# 대상 이미지, 윤곽선 정보, 인덱스(-1이면 전체 윤곽선), 색, 두께 \n",
    "cv2.drawContours(target,contours=contours,  contourIdx=-1 ,color=(0,200,0), thickness=2) # 윤곽선 그리기\n",
    "\n",
    "\n",
    "cv2.imshow(\"img\",img)\n",
    "cv2.imshow(\"gray\",gray)\n",
    "cv2.imshow(\"ostu\",ostu)\n",
    "cv2.imshow(\"contours\",target)\n",
    "cv2.waitKey(0)\n",
    "cv2.destroyAllWindows()"
   ]
  },
  {
   "cell_type": "markdown",
   "metadata": {},
   "source": [
    "### 윤곽선 찾기 모드 \n",
    "- cv2.retr_external : 가장 외곽의 윤곽선만 찾음 \n",
    "- cv2.retr_list : 모든 윤곽선 찾음 ( 계층 정보 x )\n",
    "- cv2.retr_tree : 모든 윤곽선 찾음 ( 계층 정보를 tree구조로 생성 )"
   ]
  },
  {
   "cell_type": "code",
   "execution_count": 7,
   "metadata": {},
   "outputs": [],
   "source": [
    "import cv2\n",
    "img = cv2.imread(\"card.png\")\n",
    "target = img.copy() \n",
    "\n",
    "gray = cv2.cvtColor(img,cv2.COLOR_BGR2GRAY)\n",
    "ret, ostu = cv2.threshold(gray,-1,255,cv2.THRESH_BINARY | cv2.THRESH_OTSU)\n",
    "\n",
    "# contours, hierachy = cv2.findContours(ostu, cv2.RETR_LIST, cv2.CHAIN_APPROX_NONE) \n",
    "\n",
    "contours, hierachy = cv2.findContours(ostu, cv2.RETR_EXTERNAL, cv2.CHAIN_APPROX_NONE) \n",
    "\n",
    "# contours, hierachy = cv2.findContours(ostu, cv2.RETR_TREE, cv2.CHAIN_APPROX_NONE)\n",
    "\n",
    "cv2.drawContours(target,contours=contours,  contourIdx=-1 ,color=(0,200,0), thickness=2)\n",
    "\n",
    "\n",
    "cv2.imshow(\"img\",img)\n",
    "cv2.imshow(\"gray\",gray)\n",
    "cv2.imshow(\"ostu\",ostu)\n",
    "cv2.imshow(\"contours\",target)\n",
    "cv2.waitKey(0)\n",
    "cv2.destroyAllWindows()"
   ]
  },
  {
   "cell_type": "markdown",
   "metadata": {},
   "source": [
    "## 경계 사각형 \n",
    "- 윤곽선의 경계면을 둘러싸는 사각형 \n",
    "\n",
    "### boundingRect()"
   ]
  },
  {
   "cell_type": "code",
   "execution_count": 13,
   "metadata": {},
   "outputs": [],
   "source": [
    "import cv2\n",
    "img = cv2.imread(\"card.png\")\n",
    "target = img.copy() \n",
    "\n",
    "gray = cv2.cvtColor(img,cv2.COLOR_BGR2GRAY)\n",
    "ret, ostu = cv2.threshold(gray,-1,255,cv2.THRESH_BINARY | cv2.THRESH_OTSU)\n",
    "\n",
    "\n",
    "contours, hierachy = cv2.findContours(ostu, cv2.RETR_LIST, cv2.CHAIN_APPROX_NONE) \n",
    "\n",
    "for cnt in contours:\n",
    "    x,y,width,height = cv2.boundingRect(cnt)\n",
    "    cv2.rectangle(target,(x,y),(x+width,y+height),color=(0,200,0),thickness=3) \n",
    "    \n",
    "cv2.imshow(\"img\",img)\n",
    "cv2.imshow(\"gray\",gray)\n",
    "cv2.imshow(\"ostu\",ostu)\n",
    "cv2.imshow(\"contours\",target)\n",
    "cv2.waitKey(0)\n",
    "cv2.destroyAllWindows()"
   ]
  },
  {
   "cell_type": "markdown",
   "metadata": {},
   "source": [
    "# 면적 \n",
    "- contourArea()"
   ]
  },
  {
   "cell_type": "code",
   "execution_count": 11,
   "metadata": {},
   "outputs": [],
   "source": [
    "import cv2\n",
    "img = cv2.imread(\"card.png\")\n",
    "target = img.copy() \n",
    "\n",
    "gray = cv2.cvtColor(img,cv2.COLOR_BGR2GRAY)\n",
    "ret, ostu = cv2.threshold(gray,-1,255,cv2.THRESH_BINARY | cv2.THRESH_OTSU)\n",
    "\n",
    "\n",
    "contours, hierachy = cv2.findContours(ostu, cv2.RETR_LIST, cv2.CHAIN_APPROX_NONE) \n",
    "\n",
    "for cnt in contours:\n",
    "    if cv2.contourArea(cnt) > 25000:\n",
    "        x,y,width,height = cv2.boundingRect(cnt)\n",
    "        cv2.rectangle(target,(x,y),(x+width,y+height),color=(0,200,0),thickness=3)\n",
    "    \n",
    "cv2.imshow(\"img\",img)\n",
    "cv2.imshow(\"gray\",gray)\n",
    "cv2.imshow(\"ostu\",ostu)\n",
    "cv2.imshow(\"contours\",target)\n",
    "cv2.waitKey(0)\n",
    "cv2.destroyAllWindows()"
   ]
  },
  {
   "cell_type": "markdown",
   "metadata": {},
   "source": [
    "## 미니 프로젝트 : 개별 카드 추출해서 파일 저장 \n",
    "- 특정 크기 이상의 카드를 찾는 방법 "
   ]
  },
  {
   "cell_type": "code",
   "execution_count": 1,
   "metadata": {},
   "outputs": [],
   "source": [
    "import cv2\n",
    "img = cv2.imread(\"card.png\")\n",
    "target = img.copy() \n",
    "\n",
    "gray = cv2.cvtColor(img,cv2.COLOR_BGR2GRAY)\n",
    "ret, ostu = cv2.threshold(gray,-1,255,cv2.THRESH_BINARY | cv2.THRESH_OTSU)\n",
    "\n",
    "\n",
    "contours, hierachy = cv2.findContours(ostu, cv2.RETR_LIST, cv2.CHAIN_APPROX_NONE) \n",
    "\n",
    "index = 1\n",
    "for cnt in contours:\n",
    "    if cv2.contourArea(cnt) > 25000:\n",
    "        x,y,width,height = cv2.boundingRect(cnt)\n",
    "        cv2.rectangle(target,(x,y),(x+width,y+height),color=(0,200,0),thickness=3)\n",
    "        \n",
    "        crop = img[y:y+height,x:x+width]\n",
    "        cv2.imshow(f'card_crop_{index}.png',crop)\n",
    "        cv2.imwrite(f'card_crop_{index}.png',crop)\n",
    "        index+=1\n",
    "    \n",
    "cv2.imshow(\"img\",img)\n",
    "cv2.imshow(\"gray\",gray)\n",
    "cv2.imshow(\"ostu\",ostu)\n",
    "cv2.imshow(\"contours\",target)\n",
    "cv2.waitKey(0)\n",
    "cv2.destroyAllWindows()"
   ]
  },
  {
   "cell_type": "markdown",
   "metadata": {},
   "source": []
  }
 ],
 "metadata": {
  "interpreter": {
   "hash": "cef0512ee144c52499c9fe1a46cba0fbc3451f4d893650cb600c4a7e8d506416"
  },
  "kernelspec": {
   "display_name": "Python 3.9.7 ('base')",
   "language": "python",
   "name": "python3"
  },
  "language_info": {
   "codemirror_mode": {
    "name": "ipython",
    "version": 3
   },
   "file_extension": ".py",
   "mimetype": "text/x-python",
   "name": "python",
   "nbconvert_exporter": "python",
   "pygments_lexer": "ipython3",
   "version": "3.9.7"
  },
  "orig_nbformat": 4
 },
 "nbformat": 4,
 "nbformat_minor": 2
}
