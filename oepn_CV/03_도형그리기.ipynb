{
 "cells": [
  {
   "cell_type": "markdown",
   "metadata": {},
   "source": [
    "# 3.도형 그리기\n",
    "-  얼굴의 특정 부분에 도형을 그리기 \n",
    "- 사물의 특정 위치를 그리기 등등 "
   ]
  },
  {
   "cell_type": "markdown",
   "metadata": {},
   "source": [
    "# 빈 스케치북 만들기"
   ]
  },
  {
   "cell_type": "code",
   "execution_count": 1,
   "metadata": {},
   "outputs": [],
   "source": [
    "import cv2 \n",
    "import numpy as np\n",
    "\n",
    "\n",
    "# 세로 : 가로 : 채널  = 480 : 640  : 3   에 대항하는 스케치북 만들기\n",
    "img = np.zeros((480,640,3), dtype=np.uint8)\n",
    "\n",
    "img[:] = (255,255,255)                  # 전체공간을 흰색으로 채우기\n",
    "img[:] = (255,0,0)                      # 전체공간을 파랑으로 채우기\n",
    "img[:] = (0,0,255)                      # 전체공간을 빨강으로 채우기\n",
    "img[:] = (0,255,0)                      # 전체공간을 초록으로 채우기\n",
    "\n",
    "cv2.imshow(\"img\",img)\n",
    "cv2.waitKey(0) \n",
    "cv2.destroyAllWindows()"
   ]
  },
  {
   "cell_type": "markdown",
   "metadata": {},
   "source": [
    "# 일부 영역 색칠"
   ]
  },
  {
   "cell_type": "code",
   "execution_count": 2,
   "metadata": {},
   "outputs": [],
   "source": [
    "import cv2 \n",
    "import numpy as np\n",
    "\n",
    "img = np.zeros((480,640,3), dtype=np.uint8)\n",
    "\n",
    "img[100:200,200:300]  =(255,255,255)    # 세로(100~200),가로(200~300) 공간을 흰색으로 채움\n",
    "\n",
    "cv2.imshow(\"img\",img)\n",
    "cv2.waitKey(0) \n",
    "cv2.destroyAllWindows()"
   ]
  },
  {
   "cell_type": "markdown",
   "metadata": {},
   "source": [
    "# 직선 그리기 - line\n",
    "- cv2.line_4 : 상하좌우 4방향 연결선\n",
    "- cv2.line_8 : 대각선 포함 8방향 연결선 (기본값)\n",
    "- cv2.line_aa : 부드러운 선 (anti - aliasing)"
   ]
  },
  {
   "cell_type": "code",
   "execution_count": 26,
   "metadata": {},
   "outputs": [],
   "source": [
    "import cv2 \n",
    "import numpy as np\n",
    "\n",
    "img = np.zeros((480,640,3), dtype=np.uint8)\n",
    "\n",
    "color = (0,255,255) # 노란색 \n",
    "thikness = 3 # 두께\n",
    "\n",
    "# 그릴위치, 시작점, 끝점 , 색, 두께, 선종류 \n",
    "cv2.line(img, (50,100), (400,50), color=color, thickness=thikness, lineType=cv2.LINE_8)   # 4방향+대각선 \n",
    "cv2.line(img, (50,200), (400,150), color=color, thickness=thikness, lineType=cv2.LINE_4)  # 상하좌우 4방향 \n",
    "cv2.line(img, (50,300), (400,250), color=color, thickness=thikness, lineType=cv2.LINE_AA) # 부드러운 선 그리기 \n",
    "\n",
    "cv2.imshow(\"img\",img)\n",
    "cv2.waitKey(0)\n",
    "cv2.destroyAllWindows()"
   ]
  },
  {
   "cell_type": "markdown",
   "metadata": {},
   "source": [
    "# 원 그리기 - circle"
   ]
  },
  {
   "cell_type": "code",
   "execution_count": 37,
   "metadata": {},
   "outputs": [],
   "source": [
    "import cv2 \n",
    "import numpy as np\n",
    "\n",
    "img = np.zeros((480,640,3), dtype=np.uint8)\n",
    "\n",
    "color = (255,255,0) # 옥색 \n",
    "radius=50 \n",
    "thikness = 10 # 두께\n",
    "\n",
    "# 그릴 위치(세로, 가로), 원의 중심점, 반지름, 색갈, 두께, 선종류 \n",
    "cv2.circle(img, (320,240), radius=radius, color=color , thickness=thikness, lineType=cv2.LINE_AA)  # 속이 빈 원\n",
    "cv2.circle(img, (120,240), radius=radius, color=color , thickness=cv2.FILLED, lineType=cv2.LINE_AA)  # 속이 빈 원\n",
    "\n",
    "\n",
    "cv2.imshow(\"img\",img)\n",
    "cv2.waitKey(0)\n",
    "cv2.destroyAllWindows()"
   ]
  },
  {
   "cell_type": "markdown",
   "metadata": {},
   "source": [
    "# 사각형그리기 - rectangle"
   ]
  },
  {
   "cell_type": "code",
   "execution_count": 3,
   "metadata": {},
   "outputs": [],
   "source": [
    "import cv2\n",
    "import numpy as np\n",
    "\n",
    "img =np.zeros((480,640,3),dtype=np.uint8)\n",
    "\n",
    "color = (0,255,0) # 초록색\n",
    "thikness = 3 # 두께\n",
    "\n",
    "# 그릴위치(왼쪽위, 오른쪽 아래), 색, 두께, 선 종류 \n",
    "cv2.rectangle(img,(100,100),(200,200),color=color,thickness=thikness,lineType=cv2.LINE_AA)   # 속이 빈 사각형\n",
    "cv2.rectangle(img,(200,200),(300,300),color=color,thickness=cv2.FILLED,lineType=cv2.LINE_AA)   # 속이 빈 사각형\n",
    "cv2.imshow(\"img\",img)\n",
    "cv2.waitKey(7000)\n",
    "cv2.destroyAllWindows()"
   ]
  },
  {
   "cell_type": "markdown",
   "metadata": {},
   "source": [
    "# 다각형 그리기\n"
   ]
  },
  {
   "cell_type": "code",
   "execution_count": 13,
   "metadata": {},
   "outputs": [],
   "source": [
    "import cv2 \n",
    "import numpy as np\n",
    "\n",
    "img = np.zeros((480,640,3),dtype=np.uint8)\n",
    "color = (0,255,255) # 노랑\n",
    "thikness = 3 # 두께\n",
    "\n",
    "pts1 = np.array([[100,100],[200,100],[100,200]]) # (가로, 세로)\n",
    "pts2 = np.array([[400,400],[500,400],[400,300]])\n",
    "pts3 = np.array([[200,100],[300,100],[300,200]])\n",
    "\n",
    "cv2.polylines(img, [pts1], True,color=(255,0,0), thickness=thikness, lineType=cv2.LINE_AA)   # true : 시작부분과 끝점을 마지막에 이어줌 \n",
    "cv2.polylines(img, [pts2], False,color=(255,255,0), thickness=thikness, lineType=cv2.LINE_AA)  # false : 시작부분과 끝점을 마지막에 이어주지 않음 \n",
    "cv2.polylines(img, [pts3], True,color=(0,255,255), thickness=thikness, lineType=cv2.LINE_AA)  # false : 시작부분과 끝점을 마지막에 이어주지 않음 \n",
    "\n",
    "# 그릴 위치, 그릴 좌표리스트, 닫힘 선 여부, 색, 두께. 선 종류\n",
    "cv2.polylines(img, [pts1,pts3], True, color=(255,255,255), thickness=thikness, lineType=cv2.LINE_AA) # 데이터를 리스트 형태로 넣어서 여러 다각형을 한번에 그릴 수 있음 \n",
    "\n",
    "pts4 = np.array([[[100,300],[200,300],[100,400]] , [[200,300],[300,300],[300,400]]])\n",
    "\n",
    "# 그릴 위치, 그릴 좌표리스트, 색, 선 종류\n",
    "cv2.fillPoly(img,pts4,color=color,lineType=cv2.LINE_AA)                                 # 속이 꽉찬 다각형 \n",
    "\n",
    "cv2.imshow(\"img\",img)\n",
    "cv2.waitKey(0)\n",
    "cv2.destroyAllWindows()"
   ]
  },
  {
   "cell_type": "code",
   "execution_count": 2,
   "metadata": {},
   "outputs": [],
   "source": [
    "import cv2 \n",
    "import numpy as np\n",
    "\n",
    "img = np.zeros((480,640,3),dtype=np.uint8)\n",
    "color = (0,255,255) # 노랑\n",
    "thikness = 3 # 두께\n",
    "\n",
    "pts1 = np.array([[100,100],[200,100],[100,200]]) # (가로, 세로)\n",
    "pts2 = np.array([[400,400],[500,400],[400,300]])\n",
    "pts3 = np.array([[200,100],[300,100],[300,200]])\n",
    "\n",
    "\n",
    "pts4 = np.array([[[100,300],[200,300],[100,400]] , [[200,300],[300,300],[300,400]]])\n",
    "\n",
    "# 그릴 위치, 그릴 좌표들, 색, 선 종류\n",
    "cv2.fillPoly(img,pts4,color=color,lineType=cv2.LINE_AA)                                 # 속이 꽉찬 다각형 \n",
    "\n",
    "cv2.imshow(\"img\",img)\n",
    "cv2.waitKey(0)\n",
    "cv2.destroyAllWindows()"
   ]
  }
 ],
 "metadata": {
  "interpreter": {
   "hash": "cef0512ee144c52499c9fe1a46cba0fbc3451f4d893650cb600c4a7e8d506416"
  },
  "kernelspec": {
   "display_name": "Python 3.9.7 ('base')",
   "language": "python",
   "name": "python3"
  },
  "language_info": {
   "codemirror_mode": {
    "name": "ipython",
    "version": 3
   },
   "file_extension": ".py",
   "mimetype": "text/x-python",
   "name": "python",
   "nbconvert_exporter": "python",
   "pygments_lexer": "ipython3",
   "version": "3.9.7"
  },
  "orig_nbformat": 4
 },
 "nbformat": 4,
 "nbformat_minor": 2
}
