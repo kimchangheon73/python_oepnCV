{
 "cells": [
  {
   "cell_type": "markdown",
   "metadata": {},
   "source": [
    "# 4. 텍스트 - puttext\n",
    "#### opencv에서 사용하는 글꼴 종류 \n",
    "- cv2.FONT_HERSHEY_SIMPLEX : 보통 크기의 산 세리프 글꼴\n",
    "- cv2.FONT_HERSHEY_PLAIN    : 작은 크기의 산 세리프 골꼴 \n",
    "- cv2.FONT_HERSHEY_SCRIPT_SIMPLEX   : 필기체 글꼴 \n",
    "- cv2.FONT_HERSHEY_TRIPLEX   : 보통 크기의 산 세리프 글꼴 \n",
    "- cv2.FONT_ITALIC   : 기울임 "
   ]
  },
  {
   "cell_type": "code",
   "execution_count": 6,
   "metadata": {},
   "outputs": [],
   "source": [
    "import numpy as np\n",
    "import cv2 \n",
    "\n",
    "img = np.zeros((480,640,3),dtype=np.uint8)\n",
    "color=(255,255,255)\n",
    "thickess =1\n",
    "scale=1\n",
    "\n",
    "# 그릴 위치 , 텍스트 내용, 시작위치 , 폰트, 크기, 색, 두께 \n",
    "cv2.putText(img, \"Kim FONT_HERSHEY_SIMPLEX\", (20,50), cv2.FONT_HERSHEY_SIMPLEX, scale, color, thickess)\n",
    "cv2.putText(img, \"Kim FONT_HERSHEY_PLAIN\", (20,150), cv2.FONT_HERSHEY_PLAIN, scale, color, thickess)\n",
    "cv2.putText(img, \"Kim FONT_HERSHEY_SCRIPT_SIMPLEX\", (20,250), cv2.FONT_HERSHEY_SCRIPT_SIMPLEX, scale, color, thickess)\n",
    "cv2.putText(img, \"Kim FONT_HERSHEY_TRIPLEX\", (20,350), cv2.FONT_HERSHEY_TRIPLEX, scale, color, thickess)\n",
    "cv2.putText(img, \"Kim FONT_ITALIC\", (20,450), cv2.FONT_ITALIC, scale, color, thickess)\n",
    "\n",
    "cv2.imshow(\"img\",img)\n",
    "cv2.waitKey(0)\n",
    "cv2.destroyAllWindows()"
   ]
  },
  {
   "cell_type": "markdown",
   "metadata": {},
   "source": [
    "# 한글"
   ]
  },
  {
   "cell_type": "code",
   "execution_count": 7,
   "metadata": {},
   "outputs": [],
   "source": [
    "import numpy as np\n",
    "import cv2 \n",
    "\n",
    "img = np.zeros((480,640,3),dtype=np.uint8)\n",
    "color=(255,255,255)\n",
    "thickess =1\n",
    "scale=1\n",
    "\n",
    "# 그릴 위치 , 텍스트 내용, 시작위치 , 폰트, 크기, 색, 두께 \n",
    "cv2.putText(img, \"한글\", (20,50), cv2.FONT_HERSHEY_SIMPLEX, scale, color, thickess)   # opencv에서는 한글을 지원하지 않아 ?로 표시됨\n",
    "\n",
    "cv2.imshow(\"img\",img)\n",
    "cv2.waitKey(0)\n",
    "cv2.destroyAllWindows()"
   ]
  },
  {
   "cell_type": "markdown",
   "metadata": {},
   "source": [
    "# 한글 우회 방법"
   ]
  },
  {
   "cell_type": "code",
   "execution_count": 1,
   "metadata": {},
   "outputs": [],
   "source": [
    "import numpy as np\n",
    "import cv2 \n",
    "from PIL import ImageFont,ImageDraw,Image   # pil : python image library \n",
    "\n",
    "def myput_Text(src, text, pos, font_size, font_color):\n",
    "    img_pil = Image.fromarray(src)\n",
    "    draw = ImageDraw.Draw(img_pil)\n",
    "    font = ImageFont.truetype(\"fonts/gulim.ttc\",font_size)\n",
    "    draw.text(pos, text, font=font, fill=font_color)\n",
    "    return np.array(img_pil)\n",
    "\n",
    "img = np.zeros((480,640,3),dtype=np.uint8)\n",
    "color=(255,255,255)\n",
    "font_size = 30\n",
    "# thickess =1\n",
    "#scale=1\n",
    "\n",
    "# 그릴 위치 , 텍스트 내용, 시작위치 , 폰트, 크기, 색, 두께 \n",
    "# cv2.putText(img, \"한글\", (20,50), cv2.FONT_HERSHEY_SIMPLEX, scale, color, thickess)   # opencv에서는 한글을 지원하지 않아 ?로 표시됨\n",
    "\n",
    "img = myput_Text(img,\"한글우회\",(20,50),font_size=font_size,font_color=color)\n",
    "\n",
    "cv2.imshow(\"img\",img)\n",
    "cv2.waitKey(0)\n",
    "cv2.destroyAllWindows()"
   ]
  }
 ],
 "metadata": {
  "interpreter": {
   "hash": "cef0512ee144c52499c9fe1a46cba0fbc3451f4d893650cb600c4a7e8d506416"
  },
  "kernelspec": {
   "display_name": "Python 3.9.7 ('base')",
   "language": "python",
   "name": "python3"
  },
  "language_info": {
   "codemirror_mode": {
    "name": "ipython",
    "version": 3
   },
   "file_extension": ".py",
   "mimetype": "text/x-python",
   "name": "python",
   "nbconvert_exporter": "python",
   "pygments_lexer": "ipython3",
   "version": "3.9.7"
  },
  "orig_nbformat": 4
 },
 "nbformat": 4,
 "nbformat_minor": 2
}
