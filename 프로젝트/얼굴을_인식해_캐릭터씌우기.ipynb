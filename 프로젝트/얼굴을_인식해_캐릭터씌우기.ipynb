{
 "cells": [
  {
   "cell_type": "markdown",
   "metadata": {},
   "source": [
    "# 프로젝트 : 얼굴을 인식하여 캐릭터 씌우기\n",
    "- face detection : 사람 얼굴의 특징을 이용해 찾는방법\n",
    "- face recognition : 누구의 얼굴인지를 찾는 방법 "
   ]
  },
  {
   "cell_type": "code",
   "execution_count": 13,
   "metadata": {},
   "outputs": [],
   "source": [
    "import cv2\n",
    "import mediapipe as mp\n",
    "\n",
    "# 얼굴을 찾고 , 찾은 얼굴에 표시를 해주기 위한 변수 정의 \n",
    "mp_face_detection = mp.solutions.face_detection  # 얼굴 검출을 위해 face-detection 모듈을 사용 \n",
    "mp_drawing = mp.solutions.drawing_utils         # 얼굴의 특징을 그리기 위한 drawing_utils 모듈 사용 \n",
    "\n",
    "# 동영상 파일 열기 \n",
    "cap = cv2.VideoCapture(\"face_video.mp4\")\n",
    "\n",
    "# 이미지 불러오기 \n",
    "img_right_eye = cv2.imread(\"right_eye.png\")\n",
    "img_left_eye = cv2.imread(\"left_eye.png\")\n",
    "img_nose = cv2.imread(\"nose.png\")\n",
    "\n",
    "# model_selection = 0(2미터 이내 근거리 영상), 1(5미터 이내 중거리 영상)\n",
    "# min_detection_confidence = 얼굴로 보는 임계값 (얼굴로 인식하는 신뢰도)\n",
    "                                    \n",
    "with mp_face_detection.FaceDetection(model_selection=0, min_detection_confidence=0.7) as face_detection:\n",
    "    while cap.isOpened():\n",
    "      success, image = cap.read()\n",
    "      if not success:\n",
    "        break\n",
    "\n",
    "      image.flags.writeable = False\n",
    "      image = cv2.cvtColor(image, cv2.COLOR_BGR2RGB)\n",
    "      results = face_detection.process(image)\n",
    "\n",
    "    # Draw the face detection annotations on the image.\n",
    "      image.flags.writeable = True\n",
    "      image = cv2.cvtColor(image, cv2.COLOR_RGB2BGR)\n",
    "      \n",
    "      if results.detections:\n",
    "          # 6개 특징 : 오/왼눈, 코끝, 입 중심, 오/왼귀 ( 귀 구슬점, 이주 )\n",
    "        for detection in results.detections:\n",
    "           # mp_drawing.draw_detection(image, detection)\n",
    "           # print(detection)\n",
    "          \n",
    "            # 특정 위치 가져오기 \n",
    "            keypoints = detection.location_data.relative_keypoints\n",
    "            right_eye = keypoints[0]\n",
    "            left_eye = keypoints[1]\n",
    "            nose_tip = keypoints[2]\n",
    "        \n",
    "\n",
    "            h, w, _ = image.shape # height,width, channel  : 이미지로부터 세로, 가로 크기 가져옴\n",
    "            right_eye = (int(right_eye.x * w)-20,int(right_eye.y*h)-100) # 이미지 내에서 실제 좌표 (x,y)\n",
    "            left_eye = (int(left_eye.x * w)+20,int(left_eye.y*h)-100)\n",
    "            nose_tip = (int(nose_tip.x * w),int(nose_tip.y*h))\n",
    "\n",
    "        \n",
    "             # 양 눈에 동그라미 그리기 \n",
    "         #   cv2.circle(image, right_eye,radius=50, color=(255,0,0), thickness=10, lineType=cv2.LINE_AA)\n",
    "         #   cv2.circle(image, left_eye,radius=50, color=(0,255,0), thickness=10, lineType=cv2.LINE_AA)  \n",
    "         #   cv2.circle(image, nose_tip,radius=75, color=(0,255,255), thickness=10, lineType=cv2.LINE_AA)  \n",
    "\n",
    "             # 각 특징에 이미지 넣기 \n",
    "            image[right_eye[1]-50:right_eye[1]+50, right_eye[0]-50:right_eye[0]+50] = img_right_eye\n",
    "            image[left_eye[1]-50:left_eye[1]+50, left_eye[0]-50:left_eye[0]+50] = img_left_eye\n",
    "            image[nose_tip[1]-50:nose_tip[1]+50, nose_tip[0]-150:nose_tip[0]+150] = img_nose\n",
    "              \n",
    "          \n",
    "    # Flip the image horizontally for a selfie-view display.\n",
    "      cv2.imshow('MediaPipe Face Detection', cv2.resize(image,None,fx=0.5,fy=0.5))\n",
    "      \n",
    "      if cv2.waitKey(5)== ord(\"q\"):\n",
    "        break\n",
    "cap.release()\n",
    "cv2.destroyAllWindows()"
   ]
  },
  {
   "cell_type": "code",
   "execution_count": null,
   "metadata": {},
   "outputs": [],
   "source": []
  }
 ],
 "metadata": {
  "interpreter": {
   "hash": "cef0512ee144c52499c9fe1a46cba0fbc3451f4d893650cb600c4a7e8d506416"
  },
  "kernelspec": {
   "display_name": "Python 3.9.7 ('base')",
   "language": "python",
   "name": "python3"
  },
  "language_info": {
   "codemirror_mode": {
    "name": "ipython",
    "version": 3
   },
   "file_extension": ".py",
   "mimetype": "text/x-python",
   "name": "python",
   "nbconvert_exporter": "python",
   "pygments_lexer": "ipython3",
   "version": "3.9.7"
  },
  "orig_nbformat": 4
 },
 "nbformat": 4,
 "nbformat_minor": 2
}
